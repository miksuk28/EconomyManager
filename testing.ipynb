{
 "cells": [
  {
   "cell_type": "code",
   "execution_count": 3,
   "metadata": {},
   "outputs": [],
   "source": [
    "from economy import EconomyManager\n",
    "from users import UsersManagement\n",
    "from pprint import pprint as print\n",
    "\n",
    "eco = EconomyManager()\n",
    "users = UsersManagement()"
   ]
  },
  {
   "cell_type": "code",
   "execution_count": 4,
   "metadata": {},
   "outputs": [
    {
     "data": {
      "text/plain": [
       "'AO-ENTYh89uqR-wJBKlH_2ijIsAdhGCM9k3YyT4AykfoXlry13Dl_UkuuH1pRX0h'"
      ]
     },
     "execution_count": 4,
     "metadata": {},
     "output_type": "execute_result"
    }
   ],
   "source": [
    "#users.login(username=\"miksuk28\", password=\"1234\")\n",
    "users.authenticate('AO-ENTYh89uqR-wJBKlH_2ijIsAdhGCM9k3YyT4AykfoXlry13Dl_UkuuH1pRX0h')"
   ]
  }
 ],
 "metadata": {
  "kernelspec": {
   "display_name": "Python 3",
   "language": "python",
   "name": "python3"
  },
  "language_info": {
   "codemirror_mode": {
    "name": "ipython",
    "version": 3
   },
   "file_extension": ".py",
   "mimetype": "text/x-python",
   "name": "python",
   "nbconvert_exporter": "python",
   "pygments_lexer": "ipython3",
   "version": "3.10.9"
  },
  "orig_nbformat": 4,
  "vscode": {
   "interpreter": {
    "hash": "767d51c1340bd893661ea55ea3124f6de3c7a262a8b4abca0554b478b1e2ff90"
   }
  }
 },
 "nbformat": 4,
 "nbformat_minor": 2
}
