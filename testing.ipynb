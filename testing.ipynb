{
 "cells": [
  {
   "cell_type": "code",
   "execution_count": 1,
   "metadata": {},
   "outputs": [],
   "source": [
    "from economy import EconomyManager\n",
    "from users import UsersManagement\n",
    "from pprint import pprint as print\n",
    "\n",
    "eco = EconomyManager()\n",
    "users = UsersManagement()"
   ]
  },
  {
   "cell_type": "code",
   "execution_count": 2,
   "metadata": {},
   "outputs": [
    {
     "ename": "DuplicateItems",
     "evalue": "ERROR:  duplicate key value violates unique constraint \"items_receipt_id_name_key\"\nDETAIL:  Key (receipt_id, name)=(49, Aboltus) already exists.\n",
     "output_type": "error",
     "traceback": [
      "\u001b[0;31m---------------------------------------------------------------------------\u001b[0m",
      "\u001b[0;31mUniqueViolation\u001b[0m                           Traceback (most recent call last)",
      "File \u001b[0;32m~/Programming/Python/economy/economy.py:62\u001b[0m, in \u001b[0;36mEconomyManager.create_receipt\u001b[0;34m(self, user_id, items, description, date)\u001b[0m\n\u001b[1;32m     61\u001b[0m \u001b[39mtry\u001b[39;00m:\n\u001b[0;32m---> 62\u001b[0m     cur\u001b[39m.\u001b[39;49mexecutemany(sql\u001b[39m.\u001b[39;49minsert_items, items)\n\u001b[1;32m     63\u001b[0m     \u001b[39mself\u001b[39m\u001b[39m.\u001b[39mconn\u001b[39m.\u001b[39mcommit()\n",
      "\u001b[0;31mUniqueViolation\u001b[0m: duplicate key value violates unique constraint \"items_receipt_id_name_key\"\nDETAIL:  Key (receipt_id, name)=(49, Aboltus) already exists.\n",
      "\nDuring handling of the above exception, another exception occurred:\n",
      "\u001b[0;31mDuplicateItems\u001b[0m                            Traceback (most recent call last)",
      "Cell \u001b[0;32mIn[2], line 7\u001b[0m\n\u001b[1;32m      1\u001b[0m items \u001b[39m=\u001b[39m [\n\u001b[1;32m      2\u001b[0m     {\u001b[39m\"\u001b[39m\u001b[39mname\u001b[39m\u001b[39m\"\u001b[39m: \u001b[39m\"\u001b[39m\u001b[39mBallsakc Pasta\u001b[39m\u001b[39m\"\u001b[39m, \u001b[39m\"\u001b[39m\u001b[39mprice\u001b[39m\u001b[39m\"\u001b[39m: \u001b[39m1000\u001b[39m, \u001b[39m\"\u001b[39m\u001b[39mquantity\u001b[39m\u001b[39m\"\u001b[39m: \u001b[39m2000\u001b[39m, \u001b[39m\"\u001b[39m\u001b[39mcategory_id\u001b[39m\u001b[39m\"\u001b[39m: \u001b[39mNone\u001b[39;00m},\n\u001b[1;32m      3\u001b[0m     {\u001b[39m\"\u001b[39m\u001b[39mname\u001b[39m\u001b[39m\"\u001b[39m: \u001b[39m\"\u001b[39m\u001b[39mAboltus\u001b[39m\u001b[39m\"\u001b[39m, \u001b[39m\"\u001b[39m\u001b[39mprice\u001b[39m\u001b[39m\"\u001b[39m: \u001b[39m290\u001b[39m, \u001b[39m\"\u001b[39m\u001b[39mquantity\u001b[39m\u001b[39m\"\u001b[39m: \u001b[39m3\u001b[39m, \u001b[39m\"\u001b[39m\u001b[39mcategory_id\u001b[39m\u001b[39m\"\u001b[39m: \u001b[39mNone\u001b[39;00m},\n\u001b[1;32m      4\u001b[0m     {\u001b[39m\"\u001b[39m\u001b[39mname\u001b[39m\u001b[39m\"\u001b[39m: \u001b[39m\"\u001b[39m\u001b[39mAboltus\u001b[39m\u001b[39m\"\u001b[39m, \u001b[39m\"\u001b[39m\u001b[39mprice\u001b[39m\u001b[39m\"\u001b[39m: \u001b[39m290\u001b[39m, \u001b[39m\"\u001b[39m\u001b[39mquantity\u001b[39m\u001b[39m\"\u001b[39m: \u001b[39m3\u001b[39m, \u001b[39m\"\u001b[39m\u001b[39mcategory_id\u001b[39m\u001b[39m\"\u001b[39m: \u001b[39mNone\u001b[39;00m}\n\u001b[1;32m      5\u001b[0m ]\n\u001b[0;32m----> 7\u001b[0m eco\u001b[39m.\u001b[39;49mcreate_receipt(\u001b[39m1\u001b[39;49m, items)\n",
      "File \u001b[0;32m~/Programming/Python/economy/economy.py:67\u001b[0m, in \u001b[0;36mEconomyManager.create_receipt\u001b[0;34m(self, user_id, items, description, date)\u001b[0m\n\u001b[1;32m     65\u001b[0m \u001b[39mexcept\u001b[39;00m psycopg2\u001b[39m.\u001b[39merrors\u001b[39m.\u001b[39mUniqueViolation \u001b[39mas\u001b[39;00m e:\n\u001b[1;32m     66\u001b[0m     \u001b[39mself\u001b[39m\u001b[39m.\u001b[39mconn\u001b[39m.\u001b[39mrollback()\n\u001b[0;32m---> 67\u001b[0m     \u001b[39mraise\u001b[39;00m exc\u001b[39m.\u001b[39mDuplicateItems(e\u001b[39m.\u001b[39mpgerror)\n",
      "\u001b[0;31mDuplicateItems\u001b[0m: ERROR:  duplicate key value violates unique constraint \"items_receipt_id_name_key\"\nDETAIL:  Key (receipt_id, name)=(49, Aboltus) already exists.\n"
     ]
    }
   ],
   "source": [
    "items = [\n",
    "    {\"name\": \"Ballsakc Pasta\", \"price\": 1000, \"quantity\": 2000, \"category_id\": None},\n",
    "    {\"name\": \"Aboltus\", \"price\": 290, \"quantity\": 3, \"category_id\": None},\n",
    "    {\"name\": \"Aboltus\", \"price\": 290, \"quantity\": 3, \"category_id\": None}\n",
    "]\n",
    "\n",
    "eco.create_receipt(1, items)"
   ]
  }
 ],
 "metadata": {
  "kernelspec": {
   "display_name": "Python 3",
   "language": "python",
   "name": "python3"
  },
  "language_info": {
   "codemirror_mode": {
    "name": "ipython",
    "version": 3
   },
   "file_extension": ".py",
   "mimetype": "text/x-python",
   "name": "python",
   "nbconvert_exporter": "python",
   "pygments_lexer": "ipython3",
   "version": "3.10.9"
  },
  "orig_nbformat": 4,
  "vscode": {
   "interpreter": {
    "hash": "767d51c1340bd893661ea55ea3124f6de3c7a262a8b4abca0554b478b1e2ff90"
   }
  }
 },
 "nbformat": 4,
 "nbformat_minor": 2
}
